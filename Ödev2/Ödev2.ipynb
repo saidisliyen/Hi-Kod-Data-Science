{
 "cells": [
  {
   "cell_type": "markdown",
   "id": "ff87c8f7",
   "metadata": {},
   "source": [
    "# 1\n",
    "Kullanıcıdan maaş bilgisini isteyelim ve bu bilgiye göre maaşından ne kadar vergi kesileceğini hesaplayalım. (Oluşturulan vergi sistemi hayal ürünüdür :D)\n",
    "Kullanıcının geliri;\n",
    "- 10000 ve altındaysa maaşından %5 kesinti olsun.\n",
    "- 25000 ve altındaysa maaşından %10 kesinti olsun.\n",
    "- 45000 ve altındaysa maaşından %25 kesinti olsun.\n",
    "- Diğer koşullarda %30 kesinti olsun.\n",
    "\n",
    "Bu durumlara göre kullanıcının yeni maaşını yazdıralım."
   ]
  },
  {
   "cell_type": "code",
   "execution_count": 13,
   "id": "a6da3ea9",
   "metadata": {},
   "outputs": [
    {
     "name": "stdout",
     "output_type": "stream",
     "text": [
      "Maaşınızı girin: 100000\n",
      "Geliriniz: 100000.0 TL\n",
      "Vergi Kesintisi Oranı: %30.0\n",
      "Vergi Kesintisi: 30000.0 TL\n",
      "Yeni Maaşınız: 70000.0 TL\n"
     ]
    }
   ],
   "source": [
    "maas = float(input(\"Maaşınızı girin: \"))\n",
    "\n",
    "\n",
    "if maas <= 10000:\n",
    "    vergi_orani = 0.05\n",
    "elif maas <= 25000:\n",
    "    vergi_orani = 0.10\n",
    "elif maas <= 45000:\n",
    "    vergi_orani = 0.25\n",
    "else:\n",
    "    vergi_orani = 0.30\n",
    "\n",
    "vergi_kesintisi = maas * vergi_orani\n",
    "\n",
    "yeni_maas = maas - vergi_kesintisi\n",
    "\n",
    "print(\"Geliriniz:\", maas, \"TL\")\n",
    "print(\"Vergi Kesintisi Oranı: %\" + str(vergi_orani * 100))\n",
    "print(\"Vergi Kesintisi:\", vergi_kesintisi, \"TL\")\n",
    "print(\"Yeni Maaşınız:\", yeni_maas, \"TL\")\n",
    "\n"
   ]
  },
  {
   "cell_type": "markdown",
   "id": "77370310",
   "metadata": {},
   "source": [
    "# 2\n",
    "Kullanıcıdan kullanıcı adı ve şifre oluşturmasını isteyin. Şifrenin uzunluğu altı haneye ulaşmışsa hesabınız oluşturuldu mesajı alsın, altı haneden azsa altı haneli şifre oluşturması gerektiğinin mesajını alsın.(Sadece koşul kullanmanız yeterli.)"
   ]
  },
  {
   "cell_type": "code",
   "execution_count": 16,
   "id": "61ddc038",
   "metadata": {},
   "outputs": [
    {
     "name": "stdout",
     "output_type": "stream",
     "text": [
      "Kullanıcı adı oluşturun: said\n",
      "Şifre oluşturun: 321\n",
      "Şifre en az 6 haneli olmalı!\n"
     ]
    }
   ],
   "source": [
    "kullanici_adi = input(\"Kullanıcı adı oluşturun: \")\n",
    "sifre = input(\"Şifre oluşturun: \")\n",
    "\n",
    "if len(sifre) >= 6:\n",
    "    print(\"Hesabınız oluşturuldu\")\n",
    "    \n",
    "else:\n",
    "    print(\"Şifre en az 6 haneli olmalı!\")"
   ]
  },
  {
   "cell_type": "markdown",
   "id": "fd529538",
   "metadata": {},
   "source": [
    "# 3\n",
    "Bir önceki örneği geliştiriyoruz. \n",
    "\n",
    "- Kullanıcı girdiği şifre 5 ve 10 hane arasında olmak zorunda olsun. \n",
    "- Eğer bu koşula uyuyorsa \"Hesabınız oluşturuldu.\" mesajı alsın\n",
    "- Koşulu sağlamıyorsa \"Lütfen girdiniz şifre 5 haneden az 1 haneden fazla olmasın!\" uyarısı alsın.\n",
    "- Bunu oluştururken kullanıcı istediğimiz şartlarda şifre oluşturuna kadar sormaya devam etsin."
   ]
  },
  {
   "cell_type": "code",
   "execution_count": 19,
   "id": "b882e6f9",
   "metadata": {},
   "outputs": [
    {
     "name": "stdout",
     "output_type": "stream",
     "text": [
      "5 ile 10 karakter arasında bir şifre giriniz: 321\n",
      "Girdiğiniz şifre istenilen karakter sayısına uymuyor!\n",
      "5 ile 10 karakter arasında bir şifre giriniz: 321123\n",
      "Hesabınız oluşturuldu\n"
     ]
    }
   ],
   "source": [
    "while True:\n",
    "    sifre = input(\"5 ile 10 karakter arasında bir şifre giriniz: \")\n",
    "    \n",
    "    if 5 <= len(sifre) <= 10:\n",
    "        print(\"Hesabınız oluşturuldu\")\n",
    "        break\n",
    "        \n",
    "    else:\n",
    "        print(\"Girdiğiniz şifre istenilen karakter sayısına uymuyor!\")"
   ]
  },
  {
   "cell_type": "markdown",
   "id": "2fd0417d",
   "metadata": {},
   "source": [
    "# 4\n",
    "- Kullanıcıdan isim ve şifre isteyeceğiz ve şifre girişi için üç hak vereceğiz. \n",
    "- Eğer önceden tanımlı şifre ile kullanıdan gelen şifre aynıysa \"Giriş yapıldı.\" yazsın. \n",
    "- Şifre girişi yanlışşa \"Yanlış şifre girildi!\" uyarısı verilsin ve üç yanlış denemede program bitsin.\n",
    "- Tercihe göre kalan hak bilgisi verilsin"
   ]
  },
  {
   "cell_type": "code",
   "execution_count": 22,
   "id": "41d69a99",
   "metadata": {},
   "outputs": [
    {
     "name": "stdout",
     "output_type": "stream",
     "text": [
      "5 ile 10 karakter arasında bir şifre giriniz: 321\n",
      "Girdiğiniz şifre istenilen karakter sayısına uymuyor!\n",
      "5 ile 10 karakter arasında bir şifre giriniz: 321123\n",
      "Hesabınız oluşturuldu\n",
      "----------------------\n",
      "Kullanıcı adı: said\n",
      "Şifre: 12312312\n",
      "Yanlış şifre girildi! Kalan deneme hakkınız:  2\n",
      "Şifre: 12312312\n",
      "Yanlış şifre girildi! Kalan deneme hakkınız:  1\n",
      "Şifre: 321123\n",
      "Giriş yapıldı.\n"
     ]
    }
   ],
   "source": [
    "while True:\n",
    "    sifre = input(\"5 ile 10 karakter arasında bir şifre giriniz: \")\n",
    "    \n",
    "    if 5 <= len(sifre) <= 10:\n",
    "        print(\"Hesabınız oluşturuldu\")\n",
    "        print(\"----------------------\")\n",
    "        break\n",
    "        \n",
    "    else:\n",
    "        print(\"Girdiğiniz şifre istenilen karakter sayısına uymuyor!\")\n",
    "        \n",
    "        \n",
    "kullanıcı_adi = input(\"Kullanıcı adı: \")  \n",
    "giris_hakki = 3\n",
    "\n",
    "while giris_hakki > 0:\n",
    "    girilen_sifre = input(\"Şifre: \")\n",
    "    \n",
    "    if girilen_sifre == sifre:\n",
    "        print(\"Giriş yapıldı.\")\n",
    "        break\n",
    "    else:\n",
    "        giris_hakki -= 1\n",
    "        if giris_hakki > 0:\n",
    "            print(\"Yanlış şifre girildi! Kalan deneme hakkınız: \" , giris_hakki)\n",
    "        else:\n",
    "            print(\"Üç yanlış deneme sonucu hakkınız kalmadı. 5 dk sonra tekrar deneyin\")\n",
    "            break\n",
    "            "
   ]
  },
  {
   "cell_type": "code",
   "execution_count": null,
   "id": "9a3f9530",
   "metadata": {},
   "outputs": [],
   "source": []
  }
 ],
 "metadata": {
  "kernelspec": {
   "display_name": "Python 3 (ipykernel)",
   "language": "python",
   "name": "python3"
  },
  "language_info": {
   "codemirror_mode": {
    "name": "ipython",
    "version": 3
   },
   "file_extension": ".py",
   "mimetype": "text/x-python",
   "name": "python",
   "nbconvert_exporter": "python",
   "pygments_lexer": "ipython3",
   "version": "3.11.4"
  }
 },
 "nbformat": 4,
 "nbformat_minor": 5
}
