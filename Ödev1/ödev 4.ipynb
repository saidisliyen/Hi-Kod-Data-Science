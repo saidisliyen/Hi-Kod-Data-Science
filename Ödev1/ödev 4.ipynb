{
 "cells": [
  {
   "cell_type": "code",
   "execution_count": 1,
   "id": "42c7f2d3",
   "metadata": {},
   "outputs": [
    {
     "name": "stdout",
     "output_type": "stream",
     "text": [
      "Adınızı girin: Said\n",
      "Yaışınızı girin: 17\n",
      "Şehir girin: İstanbul\n",
      "Mesleğinizi girin: Öğrenci\n",
      "Said 17 İstanbul Öğrenci\n"
     ]
    }
   ],
   "source": [
    "ad = input(\"Adınızı girin: \")\n",
    "yas = int(input(\"Yaışınızı girin: \"))\n",
    "sehir = input(\"Şehir girin: \")\n",
    "meslek = input(\"Mesleğinizi girin: \")\n",
    "\n",
    "print(ad , yas , sehir , meslek)"
   ]
  }
 ],
 "metadata": {
  "kernelspec": {
   "display_name": "Python 3 (ipykernel)",
   "language": "python",
   "name": "python3"
  },
  "language_info": {
   "codemirror_mode": {
    "name": "ipython",
    "version": 3
   },
   "file_extension": ".py",
   "mimetype": "text/x-python",
   "name": "python",
   "nbconvert_exporter": "python",
   "pygments_lexer": "ipython3",
   "version": "3.11.4"
  }
 },
 "nbformat": 4,
 "nbformat_minor": 5
}
