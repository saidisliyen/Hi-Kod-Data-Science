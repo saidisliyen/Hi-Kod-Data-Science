{
 "cells": [
  {
   "cell_type": "code",
   "execution_count": 6,
   "id": "7b127442",
   "metadata": {},
   "outputs": [],
   "source": [
    "ahmet = 5\n",
    "ali = 7\n",
    "ayşe = 10"
   ]
  },
  {
   "cell_type": "code",
   "execution_count": 2,
   "id": "43204511",
   "metadata": {},
   "outputs": [
    {
     "data": {
      "text/plain": [
       "True"
      ]
     },
     "execution_count": 2,
     "metadata": {},
     "output_type": "execute_result"
    }
   ],
   "source": [
    "ali < ayşe"
   ]
  },
  {
   "cell_type": "code",
   "execution_count": 7,
   "id": "fb0145e5",
   "metadata": {},
   "outputs": [
    {
     "data": {
      "text/plain": [
       "False"
      ]
     },
     "execution_count": 7,
     "metadata": {},
     "output_type": "execute_result"
    }
   ],
   "source": [
    "ahmet == ayşe"
   ]
  },
  {
   "cell_type": "code",
   "execution_count": 8,
   "id": "5c0e5577",
   "metadata": {},
   "outputs": [
    {
     "data": {
      "text/plain": [
       "True"
      ]
     },
     "execution_count": 8,
     "metadata": {},
     "output_type": "execute_result"
    }
   ],
   "source": [
    "ali > ahmet"
   ]
  },
  {
   "cell_type": "code",
   "execution_count": 9,
   "id": "37107624",
   "metadata": {},
   "outputs": [
    {
     "data": {
      "text/plain": [
       "True"
      ]
     },
     "execution_count": 9,
     "metadata": {},
     "output_type": "execute_result"
    }
   ],
   "source": [
    "(ahmet <= ali) and (ayşe >= ahmet)"
   ]
  },
  {
   "cell_type": "code",
   "execution_count": 10,
   "id": "6a1d58d6",
   "metadata": {},
   "outputs": [
    {
     "data": {
      "text/plain": [
       "True"
      ]
     },
     "execution_count": 10,
     "metadata": {},
     "output_type": "execute_result"
    }
   ],
   "source": [
    "(ahmet <= ayşe) or (ali >= ahmet)"
   ]
  },
  {
   "cell_type": "code",
   "execution_count": 12,
   "id": "daa45d22",
   "metadata": {},
   "outputs": [
    {
     "data": {
      "text/plain": [
       "False"
      ]
     },
     "execution_count": 12,
     "metadata": {},
     "output_type": "execute_result"
    }
   ],
   "source": [
    "(ayşe <= ali) and (ali >= ahmet)"
   ]
  },
  {
   "cell_type": "code",
   "execution_count": 13,
   "id": "3195a2eb",
   "metadata": {},
   "outputs": [
    {
     "data": {
      "text/plain": [
       "False"
      ]
     },
     "execution_count": 13,
     "metadata": {},
     "output_type": "execute_result"
    }
   ],
   "source": [
    "not((ahmet <= ali) and (ayşe >= ahmet))"
   ]
  }
 ],
 "metadata": {
  "kernelspec": {
   "display_name": "Python 3 (ipykernel)",
   "language": "python",
   "name": "python3"
  },
  "language_info": {
   "codemirror_mode": {
    "name": "ipython",
    "version": 3
   },
   "file_extension": ".py",
   "mimetype": "text/x-python",
   "name": "python",
   "nbconvert_exporter": "python",
   "pygments_lexer": "ipython3",
   "version": "3.11.4"
  }
 },
 "nbformat": 4,
 "nbformat_minor": 5
}
