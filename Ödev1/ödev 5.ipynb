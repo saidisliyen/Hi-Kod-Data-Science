{
 "cells": [
  {
   "cell_type": "code",
   "execution_count": 5,
   "id": "580e27c8",
   "metadata": {},
   "outputs": [
    {
     "name": "stdout",
     "output_type": "stream",
     "text": [
      "kelimeleri: ['Hi-Kod', 'Veri', 'Bilimi', 'Atölyesi']\n",
      "büyük harf: HI-KOD VERI BILIMI ATÖLYESI\n",
      "küçük harf: hi-kod veri bilimi atölyesi\n"
     ]
    }
   ],
   "source": [
    "ifade = \"Hi-Kod Veri Bilimi Atölyesi\"\n",
    "kelime = ifade.split()\n",
    "buyuk_harf = ifade.upper()\n",
    "kucuk_harf = ifade.lower()\n",
    "print(\"kelimeleri:\", kelime)\n",
    "print(\"büyük harf:\", buyuk_harf)\n",
    "print(\"küçük harf:\", kucuk_harf)"
   ]
  },
  {
   "cell_type": "code",
   "execution_count": 6,
   "id": "5ae9e7c1",
   "metadata": {},
   "outputs": [
    {
     "name": "stdout",
     "output_type": "stream",
     "text": [
      "Çift sayılar 02468\n",
      "Tek sayılar 13579\n"
     ]
    }
   ],
   "source": [
    "ifade = \"0123456789\"\n",
    "cift = ifade[::2]\n",
    "tek = ifade[1::2]\n",
    "print(\"Çift sayılar\", cift)\n",
    "print(\"Tek sayılar\", tek)"
   ]
  },
  {
   "cell_type": "code",
   "execution_count": null,
   "id": "c37f77dc",
   "metadata": {},
   "outputs": [],
   "source": []
  }
 ],
 "metadata": {
  "kernelspec": {
   "display_name": "Python 3 (ipykernel)",
   "language": "python",
   "name": "python3"
  },
  "language_info": {
   "codemirror_mode": {
    "name": "ipython",
    "version": 3
   },
   "file_extension": ".py",
   "mimetype": "text/x-python",
   "name": "python",
   "nbconvert_exporter": "python",
   "pygments_lexer": "ipython3",
   "version": "3.11.4"
  }
 },
 "nbformat": 4,
 "nbformat_minor": 5
}
