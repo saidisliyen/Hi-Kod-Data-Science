{
 "cells": [
  {
   "cell_type": "code",
   "execution_count": 2,
   "id": "9f56f592",
   "metadata": {},
   "outputs": [
    {
     "name": "stdout",
     "output_type": "stream",
     "text": [
      "sayı girin20\n",
      "sayı girin10\n",
      "Toplama sonucu: 30\n",
      "Çıkarma sonucu: 10\n",
      "Çarpma sonucu: 200\n",
      "Bölme sonucu: 2.0\n"
     ]
    }
   ],
   "source": [
    "sayi1 = int(input(\"sayı girin\"))\n",
    "\n",
    "sayi2 = int(input(\"sayı girin\"))\n",
    "\n",
    "toplama = sayi1 + sayi2\n",
    "print(\"Toplama sonucu:\", toplama)\n",
    " \n",
    "cikarma = sayi1 - sayi2\n",
    "print(\"Çıkarma sonucu:\", cikarma)\n",
    "      \n",
    "carpma = sayi1 * sayi2\n",
    "print(\"Çarpma sonucu:\", carpma)\n",
    "\n",
    "bolme = sayi1 / sayi2\n",
    "print(\"Bölme sonucu:\", bolme)"
   ]
  }
 ],
 "metadata": {
  "kernelspec": {
   "display_name": "Python 3 (ipykernel)",
   "language": "python",
   "name": "python3"
  },
  "language_info": {
   "codemirror_mode": {
    "name": "ipython",
    "version": 3
   },
   "file_extension": ".py",
   "mimetype": "text/x-python",
   "name": "python",
   "nbconvert_exporter": "python",
   "pygments_lexer": "ipython3",
   "version": "3.11.4"
  }
 },
 "nbformat": 4,
 "nbformat_minor": 5
}
